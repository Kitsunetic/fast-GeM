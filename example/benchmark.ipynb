{
 "cells": [
  {
   "cell_type": "code",
   "execution_count": 2,
   "id": "7be4cc25-d4ce-4794-bc8f-b15c54a61f31",
   "metadata": {},
   "outputs": [],
   "source": [
    "%load_ext lab_black"
   ]
  },
  {
   "cell_type": "code",
   "execution_count": 3,
   "id": "88968464-264b-45f1-af23-486adeb8e2d3",
   "metadata": {},
   "outputs": [],
   "source": [
    "import math\n",
    "from typing import Union\n",
    "\n",
    "import torch as th\n",
    "import torch.nn.functional as F\n",
    "import triton\n",
    "import triton.language as tl\n",
    "from kitsu.utils.utils import cummul\n",
    "from torch import Tensor, nn\n",
    "from torch.nn.parameter import Parameter\n",
    "\n",
    "from fast_gem.functional import triton_utils as tu"
   ]
  },
  {
   "cell_type": "code",
   "execution_count": 4,
   "id": "1c533228-014b-4c51-8824-5cebe5167c65",
   "metadata": {},
   "outputs": [],
   "source": [
    "th.cuda.set_device(6)"
   ]
  },
  {
   "cell_type": "code",
   "execution_count": 5,
   "id": "410e3405-f6f1-4260-91a8-4fdd3795f553",
   "metadata": {},
   "outputs": [],
   "source": [
    "def gem_torch_old(x, p=3, eps=1e-6, work_with_tokens=False):\n",
    "    if work_with_tokens:\n",
    "        x = x.permute(0, 2, 1)\n",
    "        # unseqeeze to maintain compatibility with Flatten\n",
    "        return F.avg_pool1d(x.clamp(min=eps).pow(p), (x.size(-1))).pow(1.0 / p).unsqueeze(3)\n",
    "    else:\n",
    "        return F.avg_pool2d(x.clamp(min=eps).pow(p), (x.size(-2), x.size(-1))).pow(1.0 / p)\n",
    "\n",
    "\n",
    "def gem_torch(x: Tensor, p=3, eps=1e-6, dim=-2):\n",
    "    \"\"\"\n",
    "    input:\n",
    "    - x: ... ... (= m n)\n",
    "    return:\n",
    "    - y: ... (= m)\n",
    "    \"\"\"\n",
    "    yshape = x.shape[:dim]\n",
    "    M = cummul(*x.shape[:dim])\n",
    "    N = cummul(*x.shape[dim:])\n",
    "    x = x.view(M, N)  # m n\n",
    "\n",
    "    x = th.clamp_min(x, eps).pow_(p)\n",
    "    x = x.mean(-1)  # adaptive average pooling\n",
    "    x = x.pow_(1.0 / p)\n",
    "\n",
    "    return x.view(*yshape)"
   ]
  },
  {
   "cell_type": "code",
   "execution_count": 11,
   "id": "1d22e9ae-7e80-4626-9745-b0f4afd77be7",
   "metadata": {},
   "outputs": [],
   "source": [
    "class GeMOps(th.autograd.Function):\n",
    "    @staticmethod\n",
    "    @triton.jit\n",
    "    def forward_kernel(x_ptr, y_ptr, p, eps, M, N, IS_P_TENSOR: tl.constexpr, BLK_M: tl.constexpr, BLK_N: tl.constexpr):\n",
    "        pid = tl.program_id(0)\n",
    "        offs_m = pid * BLK_M + tl.arange(0, BLK_M)  # m\n",
    "        offs_n = tl.arange(0, BLK_N)  # n\n",
    "        x_ptrs = x_ptr + offs_m[:, None] * N + offs_n[None, :]  # m n\n",
    "\n",
    "        if IS_P_TENSOR:\n",
    "            p = tl.load(p)\n",
    "\n",
    "        y = tl.zeros((BLK_M,), dtype=tl.float32)\n",
    "        for n in range(tl.cdiv(N, BLK_N)):\n",
    "            mask = (offs_m[:, None] < M) & (offs_n[None, :] < N - n * BLK_N)\n",
    "            x = tl.load(x_ptrs, mask=mask, other=0.0)  # m n\n",
    "\n",
    "            # calculate adaptive average pooling\n",
    "            x = tl.where((x < eps) & mask, eps, x)\n",
    "            x = tu.pow(x, p)  # m n\n",
    "            y += tl.sum(x, 1)  # m\n",
    "\n",
    "            x_ptrs += BLK_N\n",
    "\n",
    "        y /= N\n",
    "        y = tu.pow(y, 1 / p)\n",
    "\n",
    "        y_ptrs = y_ptr + offs_m\n",
    "        tl.store(y_ptrs, y, mask=offs_m < M)\n",
    "\n",
    "    @staticmethod\n",
    "    @triton.jit\n",
    "    def backward_kernel(\n",
    "        x_ptr, y_ptr, p, dy_ptr, dx_ptr, dp_ptr, eps, M, N, IS_P_TENSOR: tl.constexpr, BLK_M: tl.constexpr, BLK_N: tl.constexpr\n",
    "    ):\n",
    "        pid = tl.program_id(0)\n",
    "        offs_m = pid * BLK_M + tl.arange(0, BLK_M)  # m\n",
    "        offs_n = tl.arange(0, BLK_N)  # n\n",
    "        x_ptrs = x_ptr + offs_m[:, None] * N + offs_n[None, :]  # m n\n",
    "        dx_ptrs = dx_ptr + offs_m[:, None] * N + offs_n[None, :]  # m n\n",
    "        mask_m = offs_m < M\n",
    "\n",
    "        if IS_P_TENSOR:\n",
    "            p = tl.load(p)\n",
    "\n",
    "        # calculate y-level grad\n",
    "        y = tl.load(y_ptr + offs_m, mask=mask_m)\n",
    "        dy = tl.load(dy_ptr + offs_m, mask=mask_m)\n",
    "\n",
    "        if IS_P_TENSOR:\n",
    "            dp = tl.where(mask_m, -tl.log(y) / p * y * dy, 0.0)\n",
    "            dp = tl.sum(dp, axis=0)\n",
    "        dy = dy / p * y / (tu.pow(y, p) * N)  # m\n",
    "\n",
    "        # re-calculate x for x-level grad\n",
    "        for n in range(tl.cdiv(N, BLK_N)):\n",
    "            mask = mask_m[:, None] & (offs_n[None, :] < N - n * BLK_N)\n",
    "            x = tl.load(x_ptrs, mask=mask, other=0.0)  # m n\n",
    "\n",
    "            # calculate adaptive average pooling\n",
    "            x_ = tl.where((x < eps) & mask, eps, x)\n",
    "            # x = tu.pow(x, p)\n",
    "            # y += tl.sum(x, 1)  # m\n",
    "\n",
    "            dx = tl.zeros((BLK_M, BLK_N), dtype=dy.dtype) + dy[:, None]  # m n\n",
    "\n",
    "            if IS_P_TENSOR:\n",
    "                dp_tmp = tl.where(mask, tu.pow(x_, p) * tl.log(x_) * dx, 0.0)\n",
    "                dp += tl.sum(tl.sum(dp_tmp, axis=1), axis=0)\n",
    "\n",
    "            dx *= p * tu.pow(x_, p - 1)\n",
    "            dx = tl.where((x < eps) & mask, 0.0, dx)\n",
    "\n",
    "            tl.store(dx_ptrs, dx, mask=mask)\n",
    "            x_ptrs += BLK_N\n",
    "            dx_ptrs += BLK_N\n",
    "\n",
    "        if IS_P_TENSOR:\n",
    "            tl.atomic_add(dp_ptr, dp)\n",
    "\n",
    "    @staticmethod\n",
    "    def forward(ctx, x: Tensor, p: Union[float, Tensor] = 3.0, eps: float = 1e-6, dim: int = -2):\n",
    "        ctx.is_p_tensor = isinstance(p, Tensor)\n",
    "        M = cummul(*x.shape[:dim])\n",
    "        N = cummul(*x.shape[dim:])\n",
    "        y = x.new_empty(x.shape[:dim])\n",
    "\n",
    "        BLK_N = max(min(triton.next_power_of_2(N), 4096), 32)\n",
    "        BLK_M = max(1, 1024 // BLK_N)\n",
    "        grid = lambda meta: (triton.cdiv(M, meta[\"BLK_M\"]),)\n",
    "        GeMOps.forward_kernel[grid](x, y, p, eps, M, N, IS_P_TENSOR=ctx.is_p_tensor, BLK_M=BLK_M, BLK_N=BLK_N)\n",
    "\n",
    "        if ctx.is_p_tensor:\n",
    "            ctx.save_for_backward(x, p, y)\n",
    "            ctx.params = eps, dim\n",
    "        else:\n",
    "            ctx.save_for_backward(x, y)\n",
    "            ctx.params = p, eps, dim\n",
    "        return y\n",
    "\n",
    "    @staticmethod\n",
    "    def backward(ctx, dy: Tensor):\n",
    "        if ctx.is_p_tensor:\n",
    "            x, p, y = ctx.saved_tensors\n",
    "            eps, dim = ctx.params\n",
    "        else:\n",
    "            x, y = ctx.saved_tensors\n",
    "            p, eps, dim = ctx.params\n",
    "\n",
    "        M = cummul(*x.shape[:dim])\n",
    "        N = cummul(*x.shape[dim:])\n",
    "        dx = th.empty_like(x)\n",
    "        dp = None\n",
    "        if ctx.is_p_tensor:\n",
    "            dp = th.zeros_like(p)\n",
    "\n",
    "        BLK_N = max(min(triton.next_power_of_2(N), 4096), 32)\n",
    "        BLK_M = max(1, 1024 // BLK_N)\n",
    "        grid = lambda meta: (triton.cdiv(M, meta[\"BLK_M\"]),)\n",
    "        GeMOps.backward_kernel[grid](x, y, p, dy, dx, dp, eps, M, N, IS_P_TENSOR=ctx.is_p_tensor, BLK_N=BLK_N, BLK_M=BLK_M)\n",
    "        return dx, dp, None, None\n",
    "\n",
    "\n",
    "def gem(x: Tensor, p: Union[float, Tensor] = 3.0, eps: float = 1e-6, dim: int = -2):\n",
    "    try:\n",
    "        assert x.device != th.device(\"cpu\")\n",
    "        return GeMOps.apply(x, p, eps, dim)\n",
    "    except:\n",
    "        return gem_torch(x, p, eps, dim)\n",
    "    # return GeMOps.apply(x, p, eps, dim)"
   ]
  },
  {
   "cell_type": "code",
   "execution_count": 7,
   "id": "66416993-97e4-44eb-979d-035718ac4cde",
   "metadata": {},
   "outputs": [],
   "source": [
    "B, M, H, W = 5, 10, 20, 40\n",
    "x = th.rand(B, M, H, W, device=\"cuda\", requires_grad=True)\n",
    "p = th.full((1,), 2.0, device=\"cuda\", requires_grad=True)\n",
    "y_gt = th.randn(B, M, device=\"cuda\")"
   ]
  },
  {
   "cell_type": "code",
   "execution_count": 8,
   "id": "3be94100-7b8f-4b7f-a5d4-2370f12d4a8c",
   "metadata": {},
   "outputs": [],
   "source": [
    "y_pth = gem_torch(x, p, dim=-2)\n",
    "y_pth.backward(y_gt, retain_graph=True)\n",
    "x_grad_pth, x.grad = x.grad, None\n",
    "p_grad_pth, p.grad = p.grad, None"
   ]
  },
  {
   "cell_type": "code",
   "execution_count": 12,
   "id": "0e32d50f-474a-4f89-a2df-b1d610692fdf",
   "metadata": {},
   "outputs": [],
   "source": [
    "y_tri = gem(x, p, dim=-2)\n",
    "y_tri.backward(y_gt, retain_graph=True)\n",
    "x_grad_tri, x.grad = x.grad, None\n",
    "p_grad_tri, p.grad = p.grad, None"
   ]
  },
  {
   "cell_type": "code",
   "execution_count": 13,
   "id": "a0ff613e-286c-4fa2-9ded-a4026712d523",
   "metadata": {},
   "outputs": [
    {
     "data": {
      "text/plain": [
       "True"
      ]
     },
     "execution_count": 13,
     "metadata": {},
     "output_type": "execute_result"
    }
   ],
   "source": [
    "th.allclose(y_pth, y_tri)"
   ]
  },
  {
   "cell_type": "code",
   "execution_count": 14,
   "id": "bd3519ac-ec5f-4a4a-803e-16cd7b067561",
   "metadata": {},
   "outputs": [
    {
     "data": {
      "text/plain": [
       "True"
      ]
     },
     "execution_count": 14,
     "metadata": {},
     "output_type": "execute_result"
    }
   ],
   "source": [
    "th.allclose(x_grad_pth, x_grad_tri)"
   ]
  },
  {
   "cell_type": "code",
   "execution_count": 15,
   "id": "3b68e051-090b-423b-b833-9df486800fec",
   "metadata": {},
   "outputs": [
    {
     "data": {
      "text/plain": [
       "True"
      ]
     },
     "execution_count": 15,
     "metadata": {},
     "output_type": "execute_result"
    }
   ],
   "source": [
    "th.allclose(p_grad_pth, p_grad_tri)"
   ]
  },
  {
   "cell_type": "markdown",
   "id": "3c3336ef-7f07-4a74-91ff-70c3c115055d",
   "metadata": {},
   "source": [
    "# Benchmark"
   ]
  },
  {
   "cell_type": "code",
   "execution_count": 19,
   "id": "5a0f6517-0bc8-48bd-89d9-8720b8415b07",
   "metadata": {},
   "outputs": [
    {
     "data": {
      "image/png": "[encoded data removed]",
      "text/plain": [
       "<Figure size 640x480 with 1 Axes>"
      ]
     },
     "metadata": {},
     "output_type": "display_data"
    },
    {
     "name": "stdout",
     "output_type": "stream",
     "text": [
      "a:\n",
      "        N      Triton       Torch  Torch_Old\n",
      "0    32.0   53.333331   24.615385   5.818182\n",
      "1    64.0   91.428570   42.666668   6.464647\n",
      "2   128.0  160.000000   67.368424   6.808510\n",
      "3   256.0  232.727271   98.461540   6.994536\n",
      "4   512.0  341.333342  138.378372   5.946574\n",
      "5  1024.0  426.666652  121.904763   5.981308\n",
      "6  2048.0  512.000013  126.419756   6.014684\n"
     ]
    }
   ],
   "source": [
    "@triton.testing.perf_report(\n",
    "    triton.testing.Benchmark(\n",
    "        x_names=[\"N\"],\n",
    "        x_vals=[16 * 2**i for i in range(1, 8)],\n",
    "        x_log=False,\n",
    "        line_arg=\"provider\",\n",
    "        line_vals=[\"triton\", \"torch\", \"torch_old\"],\n",
    "        line_names=[\"Triton\", \"Torch\", \"Torch_Old\"],\n",
    "        styles=[(\"blue\", \"-\"), (\"green\", \"-\"), (\"red\", \"-\")],\n",
    "        ylabel=\"GB/s\",\n",
    "        plot_name=\"a\",\n",
    "        args={\"B\": 2, \"M\": 64, \"p\": 3.0, \"W\": 64},\n",
    "    )\n",
    ")\n",
    "def benchmark(B, M, N, p, W, provider):\n",
    "    x = th.rand(B, M, N, H, device=\"cuda\")\n",
    "\n",
    "    quantiles = [0.5, 0.2, 0.8]\n",
    "    if provider == \"torch\":\n",
    "        ms, min_ms, max_ms = triton.testing.do_bench(\n",
    "            lambda: gem_torch(x, p, dim=-2),\n",
    "            quantiles=quantiles,\n",
    "        )\n",
    "    elif provider == \"torch_old\":\n",
    "        ms, min_ms, max_ms = triton.testing.do_bench(\n",
    "            lambda: gem_torch_old(x, p)[:, :, 0, 0],\n",
    "            quantiles=quantiles,\n",
    "        )\n",
    "    elif provider == \"triton\":\n",
    "        ms, min_ms, max_ms = triton.testing.do_bench(\n",
    "            lambda: gem(x, p, dim=-2),\n",
    "            quantiles=quantiles,\n",
    "        )\n",
    "\n",
    "    gbps = lambda ms: (x.nelement() * x.element_size()) * 1e-9 / (ms * 1e-3)\n",
    "    return gbps(ms), gbps(max_ms), gbps(min_ms)\n",
    "\n",
    "\n",
    "benchmark.run(show_plots=True, print_data=True)"
   ]
  },
  {
   "cell_type": "code",
   "execution_count": null,
   "id": "cb7c0f19-e9bd-488e-9867-d72f430b4089",
   "metadata": {},
   "outputs": [],
   "source": []
  }
 ],
 "metadata": {
  "kernelspec": {
   "display_name": "Python 3 (ipykernel)",
   "language": "python",
   "name": "python3"
  },
  "language_info": {
   "codemirror_mode": {
    "name": "ipython",
    "version": 3
   },
   "file_extension": ".py",
   "mimetype": "text/x-python",
   "name": "python",
   "nbconvert_exporter": "python",
   "pygments_lexer": "ipython3",
   "version": "3.10.14"
  }
 },
 "nbformat": 4,
 "nbformat_minor": 5
}
